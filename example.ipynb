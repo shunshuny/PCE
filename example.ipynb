{
 "cells": [
  {
   "cell_type": "code",
   "execution_count": 3,
   "id": "a4061846",
   "metadata": {},
   "outputs": [
    {
     "name": "stdout",
     "output_type": "stream",
     "text": [
      "PCE（Legendre基底）係数: [2.00000000e+00 1.00000000e+00 5.79404092e-18]\n"
     ]
    }
   ],
   "source": [
    "from numpy.polynomial.legendre import legval, legvander\n",
    "import numpy as np\n",
    "\n",
    "# モデル関数: f(x) = x + 2\n",
    "def model(x):\n",
    "    return x + 2\n",
    "\n",
    "# サンプル点（[-1, 1] の一様分布を想定）\n",
    "N = 100\n",
    "x = np.random.uniform(-1, 1, N)\n",
    "y = model(x)\n",
    "\n",
    "# Legendre多項式の基底（次数2まで）\n",
    "deg = 2\n",
    "V = legvander(x, deg)  # Vandermonde matrix: 各点での多項式評価\n",
    "\n",
    "# 最小二乗で係数を推定\n",
    "coeffs, *_ = np.linalg.lstsq(V, y, rcond=None)\n",
    "\n",
    "print(\"PCE（Legendre基底）係数:\", coeffs)\n"
   ]
  },
  {
   "cell_type": "code",
   "execution_count": 15,
   "id": "38a138ba",
   "metadata": {},
   "outputs": [
    {
     "name": "stdout",
     "output_type": "stream",
     "text": [
      "[[ 1  2  5  6]\n",
      " [ 3  4  7  8]\n",
      " [ 9 10 13 14]\n",
      " [11 12 15 16]]\n"
     ]
    }
   ],
   "source": [
    "import numpy as np\n",
    "\n",
    "B_dash = [[1, 2], [3, 4]]\n",
    "# 2x2 のブロック行列を用意\n",
    "B = np.array(B_dash)\n",
    "C = np.array([[5, 6], [7, 8]])\n",
    "D = np.array([[9, 10], [11, 12]])\n",
    "E = np.array([[13, 14], [15, 16]])\n",
    "\n",
    "# ブロックを2x2に配置してnp.blockでまとめる\n",
    "A = np.block([[B, C],\n",
    "              [D, E]])\n",
    "\n",
    "print(A)"
   ]
  },
  {
   "cell_type": "code",
   "execution_count": 13,
   "id": "f9ba294a",
   "metadata": {},
   "outputs": [
    {
     "name": "stdout",
     "output_type": "stream",
     "text": [
      "[[ 1  2  5  6]\n",
      " [ 3  4  7  8]\n",
      " [ 9 10 13 14]\n",
      " [11 12 15 16]]\n"
     ]
    }
   ],
   "source": [
    "import numpy as np\n",
    "\n",
    "# 2x2 のブロック行列を用意\n",
    "B = np.array([[1, 2], [3, 4]])\n",
    "C = np.array([[5, 6], [7, 8]])\n",
    "D = np.array([[9, 10], [11, 12]])\n",
    "E = np.array([[13, 14], [15, 16]])\n",
    "\n",
    "# ブロックを2x2に配置してnp.blockでまとめる\n",
    "A = np.block([[B, C],\n",
    "              [D, E]])\n",
    "\n",
    "print(A)\n"
   ]
  },
  {
   "cell_type": "code",
   "execution_count": 1,
   "id": "41e6a98b",
   "metadata": {},
   "outputs": [
    {
     "name": "stdout",
     "output_type": "stream",
     "text": [
      "最適化成功: optimal_inaccurate\n",
      "P = [[ 397.21677768  478.49101376  797.32173022  891.99920852]\n",
      " [ 478.49101376  577.55145074  960.60931871 1076.61193091]\n",
      " [ 797.32173022  960.60931871 1600.73745859 1791.32366476]\n",
      " [ 891.99920852 1076.61193091 1791.32366476 2008.10697898]]\n"
     ]
    },
    {
     "name": "stderr",
     "output_type": "stream",
     "text": [
      "c:\\Users\\shun-\\AppData\\Local\\Programs\\Python\\Python312\\Lib\\site-packages\\cvxpy\\problems\\problem.py:1504: UserWarning: Solution may be inaccurate. Try another solver, adjusting the solver settings, or solve with verbose=True for more information.\n",
      "  warnings.warn(\n"
     ]
    }
   ],
   "source": [
    "import numpy as np\n",
    "import cvxpy as cp\n",
    "from scipy.linalg import block_diag\n",
    "\n",
    "# 例として小さな系を用意\n",
    "n = 2   # 状態数\n",
    "m = 1   # 入力数\n",
    "p = 1   # カオス次数 → (p+1)で拡張次元に拡張される\n",
    "\n",
    "# システム行列（任意の値に設定可能）\n",
    "A = np.array([[0.5, 1.0],\n",
    "              [-1.0, -2.0]])\n",
    "B = np.array([[1.0],\n",
    "              [0.0]])\n",
    "\n",
    "Ip = np.eye(p + 1)\n",
    "A_big = np.kron(np.eye(p + 1), A)\n",
    "B_big = np.kron(np.eye(p + 1), B)\n",
    "\n",
    "# 重み行列（任意）\n",
    "Q = np.eye(n)\n",
    "R = np.eye(m)\n",
    "W = np.eye(p + 1)\n",
    "Qx_bar = np.kron(Q, W)\n",
    "Ru_bar = np.kron(R, W)\n",
    "\n",
    "# Kをランダムに初期化（実際は反復で更新）\n",
    "K = np.random.randn(m, n)\n",
    "\n",
    "# K_full = K ⊗ Ip\n",
    "K_big = np.kron(K, Ip)\n",
    "\n",
    "# 変数 P（対称行列）\n",
    "dim = n * (p + 1)\n",
    "P = cp.Variable((dim, dim), symmetric=True)\n",
    "\n",
    "# 式(45)の左辺\n",
    "LHS = A_big.T @ P + P @ A_big + \\\n",
    "      P @ B_big @ K_big + K_big.T @ B_big.T @ P + \\\n",
    "      Qx_bar + K_big.T @ Ru_bar @ K_big\n",
    "\n",
    "# 制約と目的関数の定義\n",
    "constraints = [P >> 1e-3 * np.eye(dim)]\n",
    "objective = cp.Minimize(cp.norm(LHS, 'fro'))\n",
    "\n",
    "# 最適化\n",
    "prob = cp.Problem(objective, constraints)\n",
    "prob.solve()\n",
    "\n",
    "print(\"最適化成功:\", prob.status)\n",
    "print(\"P =\", P.value)"
   ]
  },
  {
   "cell_type": "code",
   "execution_count": null,
   "id": "2f914faf",
   "metadata": {},
   "outputs": [],
   "source": []
  }
 ],
 "metadata": {
  "kernelspec": {
   "display_name": "Python 3",
   "language": "python",
   "name": "python3"
  },
  "language_info": {
   "codemirror_mode": {
    "name": "ipython",
    "version": 3
   },
   "file_extension": ".py",
   "mimetype": "text/x-python",
   "name": "python",
   "nbconvert_exporter": "python",
   "pygments_lexer": "ipython3",
   "version": "3.12.5"
  }
 },
 "nbformat": 4,
 "nbformat_minor": 5
}
